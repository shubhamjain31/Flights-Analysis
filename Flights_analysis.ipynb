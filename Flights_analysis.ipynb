{
 "cells": [
  {
   "cell_type": "markdown",
   "metadata": {},
   "source": [
    "# Flights Data Analysis and prediction of Arrival Delay"
   ]
  },
  {
   "cell_type": "code",
   "execution_count": 1,
   "metadata": {},
   "outputs": [],
   "source": [
    "import findspark\n",
    "findspark.init()\n",
    "from pyspark.sql import SparkSession\n",
    "spark = SparkSession.builder.master(\"local[*]\").getOrCreate()\n",
    "\n",
    "sc = spark.sparkContext"
   ]
  },
  {
   "cell_type": "markdown",
   "metadata": {},
   "source": [
    "We shall be working with the flights.csv dataset to analyse flights delay and predict the same"
   ]
  },
  {
   "cell_type": "code",
   "execution_count": 2,
   "metadata": {},
   "outputs": [],
   "source": [
    "from pyspark.sql.types import *\n",
    "from pyspark.sql.functions import *\n",
    "from pyspark.ml import Pipeline\n",
    "from pyspark.ml.classification import DecisionTreeClassifier\n",
    "from pyspark.ml.feature import VectorAssembler, StringIndexer, VectorIndexer, MinMaxScaler\n",
    "from pyspark.ml.classification import LogisticRegression\n",
    "from pyspark.ml.tuning import ParamGridBuilder, CrossValidator\n",
    "from pyspark.ml.evaluation import BinaryClassificationEvaluator"
   ]
  },
  {
   "cell_type": "markdown",
   "metadata": {},
   "source": [
    "#### Reading in the Data"
   ]
  },
  {
   "cell_type": "code",
   "execution_count": 8,
   "metadata": {},
   "outputs": [
    {
     "name": "stdout",
     "output_type": "stream",
     "text": [
      "+----------+---------+-------+---------------+-------------+--------+--------+\n",
      "|DayofMonth|DayOfWeek|Carrier|OriginAirportID|DestAirportID|DepDelay|ArrDelay|\n",
      "+----------+---------+-------+---------------+-------------+--------+--------+\n",
      "|        19|        5|     DL|          11433|        13303|      -3|       1|\n",
      "|        19|        5|     DL|          14869|        12478|       0|      -8|\n",
      "|        19|        5|     DL|          14057|        14869|      -4|     -15|\n",
      "|        19|        5|     DL|          15016|        11433|      28|      24|\n",
      "|        19|        5|     DL|          11193|        12892|      -6|     -11|\n",
      "+----------+---------+-------+---------------+-------------+--------+--------+\n",
      "only showing top 5 rows\n",
      "\n"
     ]
    }
   ],
   "source": [
    "flights = spark.read.csv('CSV/flights.csv', inferSchema=True, header=True)\n",
    "flights.show(5)"
   ]
  },
  {
   "cell_type": "markdown",
   "metadata": {},
   "source": [
    "#### Checking Data dimensions"
   ]
  },
  {
   "cell_type": "code",
   "execution_count": 9,
   "metadata": {},
   "outputs": [
    {
     "name": "stdout",
     "output_type": "stream",
     "text": [
      "2702218 7\n"
     ]
    }
   ],
   "source": [
    "print(flights.count(), len(flights.columns))"
   ]
  },
  {
   "cell_type": "markdown",
   "metadata": {},
   "source": [
    "#### Checking inferred Schema"
   ]
  },
  {
   "cell_type": "code",
   "execution_count": 10,
   "metadata": {},
   "outputs": [
    {
     "name": "stdout",
     "output_type": "stream",
     "text": [
      "root\n",
      " |-- DayofMonth: integer (nullable = true)\n",
      " |-- DayOfWeek: integer (nullable = true)\n",
      " |-- Carrier: string (nullable = true)\n",
      " |-- OriginAirportID: integer (nullable = true)\n",
      " |-- DestAirportID: integer (nullable = true)\n",
      " |-- DepDelay: integer (nullable = true)\n",
      " |-- ArrDelay: integer (nullable = true)\n",
      "\n"
     ]
    }
   ],
   "source": [
    "flights.printSchema()"
   ]
  },
  {
   "cell_type": "markdown",
   "metadata": {},
   "source": [
    "#### Data Preparartion for Classification model : Created column label based on Arrival where I have assumed a flight taking more than 15 minutes to arrive is delayed and signified as 1 and arrivals within 15 minutes are "
   ]
  },
  {
   "cell_type": "code",
   "execution_count": 11,
   "metadata": {},
   "outputs": [
    {
     "name": "stdout",
     "output_type": "stream",
     "text": [
      "+----------+---------+-------+---------------+-------------+--------+--------+-----+\n",
      "|DayofMonth|DayOfWeek|Carrier|OriginAirportID|DestAirportID|DepDelay|ArrDelay|label|\n",
      "+----------+---------+-------+---------------+-------------+--------+--------+-----+\n",
      "|        19|        5|     DL|          11433|        13303|      -3|       1|    0|\n",
      "|        19|        5|     DL|          14869|        12478|       0|      -8|    0|\n",
      "|        19|        5|     DL|          14057|        14869|      -4|     -15|    0|\n",
      "+----------+---------+-------+---------------+-------------+--------+--------+-----+\n",
      "only showing top 3 rows\n",
      "\n"
     ]
    }
   ],
   "source": [
    "flights = flights.select(\"DayofMonth\", \"DayOfWeek\", \"Carrier\", \"OriginAirportID\", \"DestAirportID\", \"DepDelay\",\"ArrDelay\", ((col(\"ArrDelay\") > 15).cast(\"Int\").alias(\"label\")))\n",
    "flights.show(3)"
   ]
  },
  {
   "cell_type": "markdown",
   "metadata": {},
   "source": [
    "### Exploratory Data Analysis"
   ]
  },
  {
   "cell_type": "code",
   "execution_count": 12,
   "metadata": {},
   "outputs": [
    {
     "name": "stdout",
     "output_type": "stream",
     "text": [
      "+-------+------------------+-----------------+------------------+------------------+-------------------+\n",
      "|summary|        DayofMonth|        DayOfWeek|          DepDelay|          ArrDelay|              label|\n",
      "+-------+------------------+-----------------+------------------+------------------+-------------------+\n",
      "|  count|           2702218|          2702218|           2702218|           2702218|            2702218|\n",
      "|   mean|15.797897875004903|3.899480352806472|10.510732294729737|6.6550108096386005|0.19909792622208866|\n",
      "| stddev| 8.798835069164134|1.985924603367578| 36.02975608466141| 38.54758423679155| 0.3993219265282033|\n",
      "|    min|                 1|                1|               -63|               -94|                  0|\n",
      "|    max|                31|                7|              1863|              1845|                  1|\n",
      "+-------+------------------+-----------------+------------------+------------------+-------------------+\n",
      "\n"
     ]
    }
   ],
   "source": [
    "flights.describe().select(\"summary\",\"DayofMonth\", \"DayOfWeek\",\"DepDelay\",\"ArrDelay\",\"label\").show()"
   ]
  },
  {
   "cell_type": "code",
   "execution_count": 13,
   "metadata": {},
   "outputs": [
    {
     "name": "stdout",
     "output_type": "stream",
     "text": [
      "2702218\n"
     ]
    },
    {
     "data": {
      "text/plain": [
       "<AxesSubplot:xlabel='label', ylabel='count'>"
      ]
     },
     "execution_count": 13,
     "metadata": {},
     "output_type": "execute_result"
    },
    {
     "data": {
      "image/png": "[encoded data removed]",
      "text/plain": [
       "<Figure size 864x720 with 1 Axes>"
      ]
     },
     "metadata": {
      "needs_background": "light"
     },
     "output_type": "display_data"
    }
   ],
   "source": [
    "import matplotlib.pyplot as plt\n",
    "import seaborn as sns\n",
    "%matplotlib inline\n",
    "\n",
    "df_pd = flights.toPandas()\n",
    "print(len(df_pd))\n",
    "plt.figure(figsize=(12,10))\n",
    "sns.countplot(x='label', data=df_pd)"
   ]
  },
  {
   "cell_type": "code",
   "execution_count": 14,
   "metadata": {},
   "outputs": [
    {
     "name": "stdout",
     "output_type": "stream",
     "text": [
      "+-----+-------+\n",
      "|label|  count|\n",
      "+-----+-------+\n",
      "|    1| 538006|\n",
      "|    0|2164212|\n",
      "+-----+-------+\n",
      "\n"
     ]
    }
   ],
   "source": [
    "flights.groupBy('label').count().show()"
   ]
  },
  {
   "cell_type": "code",
   "execution_count": 15,
   "metadata": {},
   "outputs": [
    {
     "name": "stdout",
     "output_type": "stream",
     "text": [
      "+-----+-------------------+\n",
      "|label|      avg(DepDelay)|\n",
      "+-----+-------------------+\n",
      "|    1|  54.14783849994238|\n",
      "|    0|-0.3371074552770246|\n",
      "+-----+-------------------+\n",
      "\n"
     ]
    }
   ],
   "source": [
    "flights.groupBy('label').agg({'DepDelay':'mean'}).show()"
   ]
  },
  {
   "cell_type": "code",
   "execution_count": 16,
   "metadata": {},
   "outputs": [
    {
     "name": "stdout",
     "output_type": "stream",
     "text": [
      "+-----+---------+------+\n",
      "|label|DayofWeek| count|\n",
      "+-----+---------+------+\n",
      "|    0|        2|327758|\n",
      "|    0|        1|324597|\n",
      "|    0|        3|322517|\n",
      "|    0|        4|308856|\n",
      "|    0|        5|308497|\n",
      "|    0|        7|302523|\n",
      "|    0|        6|269464|\n",
      "|    1|        4| 97707|\n",
      "|    1|        5| 87890|\n",
      "|    1|        1| 83240|\n",
      "|    1|        3| 80555|\n",
      "|    1|        2| 69836|\n",
      "|    1|        7| 69705|\n",
      "|    1|        6| 49073|\n",
      "+-----+---------+------+\n",
      "\n"
     ]
    }
   ],
   "source": [
    "flights.groupBy('label','DayofWeek').count().orderBy('count',ascending=False).show()"
   ]
  },
  {
   "cell_type": "code",
   "execution_count": 17,
   "metadata": {},
   "outputs": [
    {
     "name": "stdout",
     "output_type": "stream",
     "text": [
      "+----------+-----+-----+\n",
      "|DayofMonth|label|count|\n",
      "+----------+-----+-----+\n",
      "|        16|    0|76363|\n",
      "|        30|    0|74576|\n",
      "|        15|    0|74057|\n",
      "|         6|    0|73774|\n",
      "|         5|    0|73629|\n",
      "|         3|    0|73268|\n",
      "|        29|    0|72887|\n",
      "|         4|    0|72434|\n",
      "|         2|    0|71721|\n",
      "|         9|    0|71501|\n",
      "|         8|    0|71418|\n",
      "|        23|    0|71320|\n",
      "|        25|    0|71165|\n",
      "|        27|    0|71084|\n",
      "|        17|    0|71081|\n",
      "|        14|    0|70900|\n",
      "|         7|    0|70815|\n",
      "|        24|    0|70750|\n",
      "|        20|    0|70353|\n",
      "|        26|    0|70189|\n",
      "|        21|    0|69168|\n",
      "|         1|    0|68990|\n",
      "|        28|    0|68527|\n",
      "|        12|    0|68467|\n",
      "|        11|    0|68450|\n",
      "|        19|    0|68088|\n",
      "|        18|    0|67960|\n",
      "|        22|    0|67938|\n",
      "|        13|    0|66948|\n",
      "|        10|    0|66870|\n",
      "|        31|    0|39521|\n",
      "|        10|    1|23155|\n",
      "|        22|    1|21337|\n",
      "|        19|    1|20966|\n",
      "|        18|    1|20944|\n",
      "|        12|    1|20390|\n",
      "|        13|    1|20165|\n",
      "|        11|    1|20156|\n",
      "|        23|    1|19934|\n",
      "|         9|    1|19911|\n",
      "+----------+-----+-----+\n",
      "only showing top 40 rows\n",
      "\n"
     ]
    }
   ],
   "source": [
    "flights.groupBy('DayofMonth','label').count().orderBy('count',ascending=False).show(40)"
   ]
  },
  {
   "cell_type": "code",
   "execution_count": 18,
   "metadata": {},
   "outputs": [
    {
     "name": "stdout",
     "output_type": "stream",
     "text": [
      "+----------+---------+-------+---------------+-------------+--------+--------+-----+\n",
      "|DayofMonth|DayOfWeek|Carrier|OriginAirportID|DestAirportID|DepDelay|ArrDelay|label|\n",
      "+----------+---------+-------+---------------+-------------+--------+--------+-----+\n",
      "|        19|        5|     DL|          11433|        13303|      -3|       1|    0|\n",
      "|        19|        5|     DL|          14869|        12478|       0|      -8|    0|\n",
      "+----------+---------+-------+---------------+-------------+--------+--------+-----+\n",
      "only showing top 2 rows\n",
      "\n"
     ]
    }
   ],
   "source": [
    "flights.show(2)"
   ]
  },
  {
   "cell_type": "code",
   "execution_count": 19,
   "metadata": {},
   "outputs": [
    {
     "name": "stdout",
     "output_type": "stream",
     "text": [
      "+-------+------+\n",
      "|Carrier| count|\n",
      "+-------+------+\n",
      "|     WN|575739|\n",
      "|     DL|381657|\n",
      "|     AA|289855|\n",
      "|     UA|286418|\n",
      "|     US|233321|\n",
      "|     OO|160164|\n",
      "|     EV|157928|\n",
      "|     B6|121906|\n",
      "|     MQ|113212|\n",
      "|     FL| 92702|\n",
      "|     9E| 80031|\n",
      "|     AS| 68555|\n",
      "|     YV| 52821|\n",
      "|     F9| 35738|\n",
      "|     VX| 34739|\n",
      "|     HA| 17432|\n",
      "+-------+------+\n",
      "\n"
     ]
    }
   ],
   "source": [
    "flights.groupBy('Carrier').count().orderBy('count',ascending=False).show()"
   ]
  },
  {
   "cell_type": "code",
   "execution_count": 20,
   "metadata": {},
   "outputs": [
    {
     "name": "stdout",
     "output_type": "stream",
     "text": [
      "+-------+------------------+\n",
      "|Carrier|     avg(DepDelay)|\n",
      "+-------+------------------+\n",
      "|     MQ|15.050197858884218|\n",
      "|     VX|14.386251763148048|\n",
      "|     EV|14.137537358796413|\n",
      "|     WN|12.846166405263496|\n",
      "|     B6|12.619797220809476|\n",
      "|     UA|12.545388208841622|\n",
      "|     F9|12.123454026526387|\n",
      "|     AA| 12.00779700194925|\n",
      "|     FL| 10.16288753209208|\n",
      "|     9E| 9.510189801451938|\n",
      "|     YV| 9.385755665360367|\n",
      "|     OO| 7.826939886616218|\n",
      "|     DL| 7.439483620109155|\n",
      "|     US| 4.974331500379305|\n",
      "|     HA| 1.533903166590179|\n",
      "|     AS|0.6592371088906718|\n",
      "+-------+------------------+\n",
      "\n"
     ]
    }
   ],
   "source": [
    "flights.groupBy('Carrier').agg({'DepDelay':'mean'}).orderBy('avg(DepDelay)',ascending=False).show()"
   ]
  },
  {
   "cell_type": "code",
   "execution_count": 21,
   "metadata": {},
   "outputs": [
    {
     "name": "stdout",
     "output_type": "stream",
     "text": [
      "+-------+--------------------+\n",
      "|Carrier|       avg(ArrDelay)|\n",
      "+-------+--------------------+\n",
      "|     MQ|  13.731132742112143|\n",
      "|     F9|  12.848704460238402|\n",
      "|     EV|  10.205865964236867|\n",
      "|     VX|    9.65790609977259|\n",
      "|     B6|   9.634792381014881|\n",
      "|     YV|   8.547585240718654|\n",
      "|     WN|   8.313306897743596|\n",
      "|     FL|   7.228765290932235|\n",
      "|     AA|  7.1367752841938215|\n",
      "|     OO|   6.339957793261907|\n",
      "|     UA|   5.163631475675412|\n",
      "|     9E|  4.7892066824105655|\n",
      "|     US|   3.924031698818366|\n",
      "|     DL|   2.803331263411912|\n",
      "|     HA|  1.5321248279027078|\n",
      "|     AS|-0.27210269126978337|\n",
      "+-------+--------------------+\n",
      "\n"
     ]
    }
   ],
   "source": [
    "flights.groupBy('Carrier').agg({'ArrDelay':'mean'}).orderBy('avg(ArrDelay)',ascending=False).show()"
   ]
  },
  {
   "cell_type": "code",
   "execution_count": 22,
   "metadata": {},
   "outputs": [
    {
     "name": "stdout",
     "output_type": "stream",
     "text": [
      "+-------+-----+------+\n",
      "|Carrier|label| count|\n",
      "+-------+-----+------+\n",
      "|     WN|    0|448138|\n",
      "|     DL|    0|323989|\n",
      "|     AA|    0|230013|\n",
      "|     UA|    0|229051|\n",
      "|     US|    0|192378|\n",
      "|     OO|    0|130938|\n",
      "|     WN|    1|127601|\n",
      "|     EV|    0|120690|\n",
      "|     B6|    0| 92771|\n",
      "|     MQ|    0| 82871|\n",
      "|     FL|    0| 74056|\n",
      "|     9E|    0| 65568|\n",
      "|     AS|    0| 60824|\n",
      "|     AA|    1| 59842|\n",
      "|     DL|    1| 57668|\n",
      "|     UA|    1| 57367|\n",
      "|     YV|    0| 42604|\n",
      "|     US|    1| 40943|\n",
      "|     EV|    1| 37238|\n",
      "|     MQ|    1| 30341|\n",
      "+-------+-----+------+\n",
      "only showing top 20 rows\n",
      "\n"
     ]
    }
   ],
   "source": [
    "flights.groupBy('Carrier','label').count().orderBy('count',ascending=False).show()"
   ]
  },
  {
   "cell_type": "code",
   "execution_count": 23,
   "metadata": {},
   "outputs": [
    {
     "data": {
      "text/html": [
       "<div>\n",
       "<style scoped>\n",
       "    .dataframe tbody tr th:only-of-type {\n",
       "        vertical-align: middle;\n",
       "    }\n",
       "\n",
       "    .dataframe tbody tr th {\n",
       "        vertical-align: top;\n",
       "    }\n",
       "\n",
       "    .dataframe thead th {\n",
       "        text-align: right;\n",
       "    }\n",
       "</style>\n",
       "<table border=\"1\" class=\"dataframe\">\n",
       "  <thead>\n",
       "    <tr style=\"text-align: right;\">\n",
       "      <th></th>\n",
       "      <th>DayofMonth</th>\n",
       "      <th>DayOfWeek</th>\n",
       "      <th>Carrier</th>\n",
       "      <th>OriginAirportID</th>\n",
       "      <th>DestAirportID</th>\n",
       "      <th>DepDelay</th>\n",
       "      <th>ArrDelay</th>\n",
       "      <th>label</th>\n",
       "    </tr>\n",
       "  </thead>\n",
       "  <tbody>\n",
       "    <tr>\n",
       "      <th>0</th>\n",
       "      <td>19</td>\n",
       "      <td>5</td>\n",
       "      <td>DL</td>\n",
       "      <td>11433</td>\n",
       "      <td>13303</td>\n",
       "      <td>-3</td>\n",
       "      <td>1</td>\n",
       "      <td>0</td>\n",
       "    </tr>\n",
       "    <tr>\n",
       "      <th>1</th>\n",
       "      <td>19</td>\n",
       "      <td>5</td>\n",
       "      <td>DL</td>\n",
       "      <td>14869</td>\n",
       "      <td>12478</td>\n",
       "      <td>0</td>\n",
       "      <td>-8</td>\n",
       "      <td>0</td>\n",
       "    </tr>\n",
       "  </tbody>\n",
       "</table>\n",
       "</div>"
      ],
      "text/plain": [
       "   DayofMonth  DayOfWeek Carrier  OriginAirportID  DestAirportID  DepDelay  \\\n",
       "0          19          5      DL            11433          13303        -3   \n",
       "1          19          5      DL            14869          12478         0   \n",
       "\n",
       "   ArrDelay  label  \n",
       "0         1      0  \n",
       "1        -8      0  "
      ]
     },
     "execution_count": 23,
     "metadata": {},
     "output_type": "execute_result"
    }
   ],
   "source": [
    "df_pd.head(2)"
   ]
  },
  {
   "cell_type": "code",
   "execution_count": 24,
   "metadata": {},
   "outputs": [
    {
     "data": {
      "image/png": "[encoded data removed]",
      "text/plain": [
       "<Figure size 720x576 with 1 Axes>"
      ]
     },
     "metadata": {
      "needs_background": "light"
     },
     "output_type": "display_data"
    }
   ],
   "source": [
    "from numpy import mean\n",
    "plt.figure(figsize=(10,8))\n",
    "sns.barplot(x='Carrier', y='ArrDelay', data=df_pd,estimator=mean)\n",
    "plt.show()"
   ]
  },
  {
   "cell_type": "code",
   "execution_count": 25,
   "metadata": {},
   "outputs": [
    {
     "data": {
      "image/png": "[encoded data removed]",
      "text/plain": [
       "<Figure size 720x576 with 1 Axes>"
      ]
     },
     "metadata": {
      "needs_background": "light"
     },
     "output_type": "display_data"
    }
   ],
   "source": [
    "x = df_pd.groupby('OriginAirportID').agg({'ArrDelay':'mean'}).sort_values(by='ArrDelay', ascending=False).head(10)\n",
    "plt.figure(figsize=(10,8))\n",
    "sns.barplot(x=x.index, y='ArrDelay', data=x)\n",
    "plt.show()"
   ]
  },
  {
   "cell_type": "code",
   "execution_count": 26,
   "metadata": {},
   "outputs": [
    {
     "name": "stdout",
     "output_type": "stream",
     "text": [
      "+---------+------------------+\n",
      "|DayOfWeek|     avg(DepDelay)|\n",
      "+---------+------------------+\n",
      "|        1|10.850131302456619|\n",
      "|        6| 7.447128591027102|\n",
      "|        3| 10.38794805890759|\n",
      "|        5| 12.30982600337549|\n",
      "|        4| 13.61391469464757|\n",
      "|        7| 9.614650160654223|\n",
      "|        2| 8.613603323993823|\n",
      "+---------+------------------+\n",
      "\n"
     ]
    }
   ],
   "source": [
    "flights.groupBy('DayOfWeek').agg({'DepDelay':'mean'}).show()"
   ]
  },
  {
   "cell_type": "code",
   "execution_count": 27,
   "metadata": {},
   "outputs": [
    {
     "name": "stdout",
     "output_type": "stream",
     "text": [
      "+----------+---------+-------+---------------+-------------+--------+--------+-----+\n",
      "|DayofMonth|DayOfWeek|Carrier|OriginAirportID|DestAirportID|DepDelay|ArrDelay|label|\n",
      "+----------+---------+-------+---------------+-------------+--------+--------+-----+\n",
      "|        31|        7|     16|             70|           70|     945|     979|    2|\n",
      "+----------+---------+-------+---------------+-------------+--------+--------+-----+\n",
      "\n"
     ]
    }
   ],
   "source": [
    "flights.agg(*(countDistinct(col(c)).alias(c) for c in flights.columns)).show()"
   ]
  },
  {
   "cell_type": "code",
   "execution_count": 28,
   "metadata": {},
   "outputs": [
    {
     "name": "stdout",
     "output_type": "stream",
     "text": [
      "+---------------+------------------+\n",
      "|OriginAirportID|     avg(DepDelay)|\n",
      "+---------------+------------------+\n",
      "|          13232| 16.12861852685751|\n",
      "|          13930| 15.68016038366288|\n",
      "|          11618|14.552501049554522|\n",
      "|          11292|14.463062544340369|\n",
      "|          11298|14.186065023496692|\n",
      "|          10821|  13.6921813720755|\n",
      "|          12478|13.542426803201273|\n",
      "|          14771|13.493117850870949|\n",
      "|          12191|13.146877050029348|\n",
      "|          12264| 13.00887012744129|\n",
      "|          12889|11.884909730604278|\n",
      "|          11259|11.794565103346972|\n",
      "|          14027|11.522148449113072|\n",
      "|          15016|11.335349807930795|\n",
      "|          11697|11.219662631246772|\n",
      "|          12266|11.198115780001636|\n",
      "|          12953|11.147533593411357|\n",
      "|          14730| 11.14732020155749|\n",
      "|          10397|10.923056211842788|\n",
      "|          13204|10.868233219741281|\n",
      "+---------------+------------------+\n",
      "only showing top 20 rows\n",
      "\n"
     ]
    }
   ],
   "source": [
    "flights.groupBy('OriginAirportID').agg({'DepDelay':'mean'}).orderBy('avg(DepDelay)',ascending=False).show()"
   ]
  },
  {
   "cell_type": "code",
   "execution_count": 29,
   "metadata": {},
   "outputs": [
    {
     "name": "stdout",
     "output_type": "stream",
     "text": [
      "+---------------+------------------+\n",
      "|OriginAirportID|     avg(ArrDelay)|\n",
      "+---------------+------------------+\n",
      "|          13232|11.806288195561274|\n",
      "|          13930|11.595141318448052|\n",
      "|          11292|11.441419303097915|\n",
      "|          11298|10.230449793804546|\n",
      "|          10821| 9.631479299086184|\n",
      "|          11259| 9.340258105130626|\n",
      "|          12191| 9.076718571971135|\n",
      "|          14027|   8.9501536022198|\n",
      "|          14771| 8.712943186672362|\n",
      "|          11057| 8.462015301118159|\n",
      "|          12264| 8.406449544470865|\n",
      "|          11697|  8.35816742211257|\n",
      "|          14843| 8.353468208092485|\n",
      "|          14730| 8.180485570316078|\n",
      "|          12889| 8.100272220652815|\n",
      "|          11066| 7.780932474017303|\n",
      "|          15016|  7.32140588608935|\n",
      "|          10693| 7.299220300946572|\n",
      "|          11618| 7.292584702937198|\n",
      "|          13851|6.9440453957764685|\n",
      "+---------------+------------------+\n",
      "only showing top 20 rows\n",
      "\n"
     ]
    }
   ],
   "source": [
    "flights.groupBy('OriginAirportID').agg({'ArrDelay':'mean'}).orderBy('avg(ArrDelay)',ascending=False).show()"
   ]
  },
  {
   "cell_type": "code",
   "execution_count": 30,
   "metadata": {},
   "outputs": [
    {
     "name": "stdout",
     "output_type": "stream",
     "text": [
      "+-------+--------------------+\n",
      "|Carrier|       avg(ArrDelay)|\n",
      "+-------+--------------------+\n",
      "|     MQ|  13.731132742112143|\n",
      "|     F9|  12.848704460238402|\n",
      "|     EV|  10.205865964236867|\n",
      "|     VX|    9.65790609977259|\n",
      "|     B6|   9.634792381014881|\n",
      "|     YV|   8.547585240718654|\n",
      "|     WN|   8.313306897743596|\n",
      "|     FL|   7.228765290932235|\n",
      "|     AA|  7.1367752841938215|\n",
      "|     OO|   6.339957793261907|\n",
      "|     UA|   5.163631475675412|\n",
      "|     9E|  4.7892066824105655|\n",
      "|     US|   3.924031698818366|\n",
      "|     DL|   2.803331263411912|\n",
      "|     HA|  1.5321248279027078|\n",
      "|     AS|-0.27210269126978337|\n",
      "+-------+--------------------+\n",
      "\n"
     ]
    }
   ],
   "source": [
    "flights.groupBy('Carrier').agg({'ArrDelay':'mean'}).orderBy('avg(ArrDelay)',ascending=False).show()"
   ]
  },
  {
   "cell_type": "markdown",
   "metadata": {},
   "source": [
    "### Feature Engineering and Data preparation for Modelling"
   ]
  },
  {
   "cell_type": "markdown",
   "metadata": {},
   "source": [
    "splits = flights.randomSplit([0.7, 0.3])\n",
    "train = splits[0]\n",
    "test = splits[1].withColumnRenamed(\"label\", \"trueLabel\")\n",
    "train_rows = train.count()\n",
    "test_rows = test.count()\n",
    "print(\"Training Rows:\", train_rows, \" Testing Rows:\", test_rows)"
   ]
  },
  {
   "cell_type": "markdown",
   "metadata": {},
   "source": [
    "Pipeline for Preprocessing :\n",
    "\n",
    "- StringIndexer estimator that converts string values to indexes for categorical features\n",
    "- VectorAssembler that combines categorical features into a single vector\n",
    "- VectorIndexer that creates indexes for a vector of categorical features\n",
    "- VectorAssembler that creates a vector of continuous numeric features\n",
    "- MinMaxScaler that normalizes continuous numeric features\n",
    "- VectorAssembler that creates a vector of categorical and continuous features\n",
    "- LogisticRegressionClassifier that trains a classification model."
   ]
  },
  {
   "cell_type": "code",
   "execution_count": 34,
   "metadata": {},
   "outputs": [],
   "source": [
    "strIdx = StringIndexer(inputCol = \"Carrier\", outputCol = \"CarrierIdx\")\n",
    "catVect = VectorAssembler(inputCols = [\"CarrierIdx\", \"DayofMonth\", \"DayOfWeek\", \"OriginAirportID\", \"DestAirportID\"], outputCol=\"catFeatures\")\n",
    "catIdx = VectorIndexer(inputCol = catVect.getOutputCol(), outputCol = \"idxCatFeatures\")\n",
    "numVect = VectorAssembler(inputCols = [\"DepDelay\"], outputCol=\"numFeatures\")\n",
    "minMax = MinMaxScaler(inputCol = numVect.getOutputCol(), outputCol=\"normFeatures\")\n",
    "featVect = VectorAssembler(inputCols=[\"idxCatFeatures\", \"normFeatures\"], outputCol=\"features\")\n",
    "lr = LogisticRegression(labelCol=\"label\",featuresCol=\"features\",maxIter=10,regParam=0.3)\n",
    "#dt = DecisionTreeClassifier(labelCol=\"label\", featuresCol=\"features\")\n",
    "pipeline_LR = Pipeline(stages=[strIdx, catVect, catIdx, numVect, minMax, featVect, lr])"
   ]
  },
  {
   "cell_type": "markdown",
   "metadata": {},
   "source": [
    "#### Fitting Training Data to pipeline"
   ]
  },
  {
   "cell_type": "code",
   "execution_count": 36,
   "metadata": {},
   "outputs": [],
   "source": [
    "piplineModel_LR = pipeline_LR.fit(train)"
   ]
  },
  {
   "cell_type": "code",
   "execution_count": 37,
   "metadata": {},
   "outputs": [],
   "source": [
    "prediction = piplineModel_LR.transform(test)\n",
    "predicted = prediction.select(\"features\", \"prediction\", \"trueLabel\")"
   ]
  },
  {
   "cell_type": "code",
   "execution_count": 38,
   "metadata": {},
   "outputs": [
    {
     "name": "stdout",
     "output_type": "stream",
     "text": [
      "+--------------------+----------+---------+\n",
      "|            features|prediction|trueLabel|\n",
      "+--------------------+----------+---------+\n",
      "|[10.0,1.0,0.0,103...|       0.0|        0|\n",
      "|[10.0,1.0,0.0,103...|       0.0|        0|\n",
      "|[10.0,1.0,0.0,103...|       0.0|        0|\n",
      "|[10.0,1.0,0.0,103...|       0.0|        0|\n",
      "|[10.0,1.0,0.0,104...|       0.0|        0|\n",
      "|[10.0,1.0,0.0,106...|       0.0|        0|\n",
      "|[10.0,1.0,0.0,106...|       0.0|        0|\n",
      "|[10.0,1.0,0.0,106...|       0.0|        0|\n",
      "|[10.0,1.0,0.0,107...|       0.0|        1|\n",
      "|[10.0,1.0,0.0,108...|       0.0|        0|\n",
      "+--------------------+----------+---------+\n",
      "only showing top 10 rows\n",
      "\n"
     ]
    }
   ],
   "source": [
    "predicted.show(10)"
   ]
  },
  {
   "cell_type": "markdown",
   "metadata": {},
   "source": [
    "### Evaluating the Model"
   ]
  },
  {
   "cell_type": "markdown",
   "metadata": {},
   "source": [
    "We'll calculate a Confusion Matrix and the Area Under ROC (Receiver Operating Characteristic) to evaluate the model."
   ]
  },
  {
   "cell_type": "code",
   "execution_count": 39,
   "metadata": {},
   "outputs": [
    {
     "name": "stdout",
     "output_type": "stream",
     "text": [
      "+---------+-------------------+\n",
      "|   metric|              value|\n",
      "+---------+-------------------+\n",
      "|       TP|            18501.0|\n",
      "|       FP|               73.0|\n",
      "|       TN|           647918.0|\n",
      "|       FN|           142367.0|\n",
      "|Precision| 0.9960697749542371|\n",
      "|   Recall|0.11500733520650472|\n",
      "|       F1|0.20620590497208013|\n",
      "+---------+-------------------+\n",
      "\n"
     ]
    }
   ],
   "source": [
    "tp = float(predicted.filter(\"prediction == 1.0 AND truelabel == 1\").count())\n",
    "fp = float(predicted.filter(\"prediction == 1.0 AND truelabel == 0\").count())\n",
    "tn = float(predicted.filter(\"prediction == 0.0 AND truelabel == 0\").count())\n",
    "fn = float(predicted.filter(\"prediction == 0.0 AND truelabel == 1\").count())\n",
    "pr = tp / (tp + fp)\n",
    "re = tp / (tp + fn)\n",
    "metrics = spark.createDataFrame([\n",
    " (\"TP\", tp),\n",
    " (\"FP\", fp),\n",
    " (\"TN\", tn),\n",
    " (\"FN\", fn),\n",
    " (\"Precision\", pr),\n",
    " (\"Recall\", re),\n",
    " (\"F1\", 2*pr*re/(re+pr))],[\"metric\", \"value\"])\n",
    "metrics.show()"
   ]
  },
  {
   "cell_type": "markdown",
   "metadata": {},
   "source": [
    "We have good precision in our model but recall is poor hence our F1 score is too low"
   ]
  },
  {
   "cell_type": "code",
   "execution_count": 40,
   "metadata": {},
   "outputs": [
    {
     "name": "stdout",
     "output_type": "stream",
     "text": [
      "AUR =  0.9136051301700884\n"
     ]
    }
   ],
   "source": [
    "evaluator = BinaryClassificationEvaluator(labelCol=\"trueLabel\", rawPredictionCol=\"rawPrediction\", metricName=\"areaUnderROC\")\n",
    "aur = evaluator.evaluate(prediction)\n",
    "print (\"AUR = \", aur)"
   ]
  },
  {
   "cell_type": "markdown",
   "metadata": {},
   "source": [
    "The prediction is based on a raw prediction score that describes a labelled point in a logistic function. This raw prediction is then converted to a predicted label of 0 or 1 based on a probability vector that indicates the confidence for each possible label value (in this case, 0 and 1). The value with the highest confidence is selected as the prediction."
   ]
  },
  {
   "cell_type": "code",
   "execution_count": 41,
   "metadata": {},
   "outputs": [
    {
     "name": "stdout",
     "output_type": "stream",
     "text": [
      "+----------------------------------------+----------------------------------------+----------+---------+\n",
      "|rawPrediction                           |probability                             |prediction|trueLabel|\n",
      "+----------------------------------------+----------------------------------------+----------+---------+\n",
      "|[1.4654096227036908,-1.4654096227036908]|[0.8123586684332069,0.18764133156679294]|0.0       |0        |\n",
      "|[1.5092833603700515,-1.5092833603700515]|[0.8189549766079938,0.18104502339200626]|0.0       |0        |\n",
      "|[1.529350037417763,-1.529350037417763]  |[0.8219111970276517,0.17808880297234828]|0.0       |0        |\n",
      "|[1.4746008372153283,-1.4746008372153283]|[0.8137556836126018,0.18624431638739827]|0.0       |0        |\n",
      "|[1.5616588945842045,-1.5616588945842045]|[0.8265912646961762,0.17340873530382384]|0.0       |0        |\n",
      "|[1.448074361929148,-1.448074361929148]  |[0.8097018994928411,0.19029810050715887]|0.0       |0        |\n",
      "|[1.3502960895965268,-1.3502960895965268]|[0.7941780310087933,0.2058219689912068] |0.0       |0        |\n",
      "|[1.5534086772197946,-1.5534086772197946]|[0.8254055055950064,0.17459449440499356]|0.0       |0        |\n",
      "|[1.516774219640776,-1.516774219640776]  |[0.8200629767875804,0.17993702321241953]|0.0       |1        |\n",
      "|[1.6012965538378054,-1.6012965538378054]|[0.8321995184151644,0.16780048158483565]|0.0       |0        |\n",
      "+----------------------------------------+----------------------------------------+----------+---------+\n",
      "only showing top 10 rows\n",
      "\n"
     ]
    }
   ],
   "source": [
    "prediction.select(\"rawPrediction\", \"probability\", \"prediction\", \"trueLabel\").show(10, truncate=False)"
   ]
  },
  {
   "cell_type": "markdown",
   "metadata": {},
   "source": [
    "Let's create similar pipeline for our Decision Tree Model"
   ]
  },
  {
   "cell_type": "code",
   "execution_count": 42,
   "metadata": {},
   "outputs": [],
   "source": [
    "strIdx = StringIndexer(inputCol = \"Carrier\", outputCol = \"CarrierIdx\")\n",
    "catVect = VectorAssembler(inputCols = [\"CarrierIdx\", \"DayofMonth\", \"DayOfWeek\", \"OriginAirportID\", \"DestAirportID\"], outputCol=\"catFeatures\")\n",
    "catIdx = VectorIndexer(inputCol = catVect.getOutputCol(), outputCol = \"idxCatFeatures\")\n",
    "numVect = VectorAssembler(inputCols = [\"DepDelay\"], outputCol=\"numFeatures\")\n",
    "minMax = MinMaxScaler(inputCol = numVect.getOutputCol(), outputCol=\"normFeatures\")\n",
    "featVect = VectorAssembler(inputCols=[\"idxCatFeatures\", \"normFeatures\"], outputCol=\"features\")\n",
    "dt = DecisionTreeClassifier(labelCol=\"label\", featuresCol=\"features\")\n",
    "pipeline_dt = Pipeline(stages=[strIdx, catVect, catIdx, numVect, minMax, featVect, dt])"
   ]
  },
  {
   "cell_type": "markdown",
   "metadata": {},
   "source": [
    "#### Fitting Decision Tree Pipeline"
   ]
  },
  {
   "cell_type": "code",
   "execution_count": 43,
   "metadata": {},
   "outputs": [],
   "source": [
    "piplineModel_DT = pipeline_dt.fit(train)"
   ]
  },
  {
   "cell_type": "code",
   "execution_count": 44,
   "metadata": {},
   "outputs": [],
   "source": [
    "prediction_DT = piplineModel_DT.transform(test)\n",
    "predicted_DT = prediction_DT.select(\"features\", \"prediction\", \"trueLabel\")"
   ]
  },
  {
   "cell_type": "code",
   "execution_count": 45,
   "metadata": {},
   "outputs": [
    {
     "name": "stdout",
     "output_type": "stream",
     "text": [
      "+--------------------+----------+---------+\n",
      "|            features|prediction|trueLabel|\n",
      "+--------------------+----------+---------+\n",
      "|[10.0,1.0,0.0,103...|       0.0|        0|\n",
      "|[10.0,1.0,0.0,103...|       0.0|        0|\n",
      "|[10.0,1.0,0.0,103...|       0.0|        0|\n",
      "|[10.0,1.0,0.0,103...|       0.0|        0|\n",
      "|[10.0,1.0,0.0,104...|       0.0|        0|\n",
      "|[10.0,1.0,0.0,106...|       0.0|        0|\n",
      "|[10.0,1.0,0.0,106...|       0.0|        0|\n",
      "|[10.0,1.0,0.0,106...|       0.0|        0|\n",
      "|[10.0,1.0,0.0,107...|       0.0|        1|\n",
      "|[10.0,1.0,0.0,108...|       0.0|        0|\n",
      "+--------------------+----------+---------+\n",
      "only showing top 10 rows\n",
      "\n"
     ]
    }
   ],
   "source": [
    "predicted_DT.show(10)"
   ]
  },
  {
   "cell_type": "markdown",
   "metadata": {},
   "source": [
    "Evaluation Metrics for Decision Tree"
   ]
  },
  {
   "cell_type": "code",
   "execution_count": 46,
   "metadata": {},
   "outputs": [
    {
     "name": "stdout",
     "output_type": "stream",
     "text": [
      "+---------+------------------+\n",
      "|   metric|             value|\n",
      "+---------+------------------+\n",
      "|       TP|          115482.0|\n",
      "|       FP|           13999.0|\n",
      "|       TN|          633992.0|\n",
      "|       FN|           45386.0|\n",
      "|Precision|0.8918837512839721|\n",
      "|   Recall|0.7178680657433424|\n",
      "|       F1|0.7954702788712894|\n",
      "+---------+------------------+\n",
      "\n"
     ]
    }
   ],
   "source": [
    "tp = float(predicted_DT.filter(\"prediction == 1.0 AND truelabel == 1\").count())\n",
    "fp = float(predicted_DT.filter(\"prediction == 1.0 AND truelabel == 0\").count())\n",
    "tn = float(predicted_DT.filter(\"prediction == 0.0 AND truelabel == 0\").count())\n",
    "fn = float(predicted_DT.filter(\"prediction == 0.0 AND truelabel == 1\").count())\n",
    "pr = tp / (tp + fp)\n",
    "re = tp / (tp + fn)\n",
    "metrics = spark.createDataFrame([\n",
    " (\"TP\", tp),\n",
    " (\"FP\", fp),\n",
    " (\"TN\", tn),\n",
    " (\"FN\", fn),\n",
    " (\"Precision\", pr),\n",
    " (\"Recall\", re),\n",
    " (\"F1\", 2*pr*re/(re+pr))],[\"metric\", \"value\"])\n",
    "metrics.show()"
   ]
  },
  {
   "cell_type": "code",
   "execution_count": 47,
   "metadata": {},
   "outputs": [
    {
     "name": "stdout",
     "output_type": "stream",
     "text": [
      "AUR =  0.7870291280069502\n"
     ]
    }
   ],
   "source": [
    "evaluator = BinaryClassificationEvaluator(labelCol=\"trueLabel\", rawPredictionCol=\"rawPrediction\", metricName=\"areaUnderROC\")\n",
    "aur = evaluator.evaluate(prediction_DT)\n",
    "print (\"AUR = \", aur)"
   ]
  },
  {
   "cell_type": "markdown",
   "metadata": {},
   "source": [
    "As we can see even with a much better recall than the Logistic Regression Model the Decision Tree's Area Under ROC curve is lesser which signifies that as an overall Model The Logistic Regression is performing better.\n",
    "\n"
   ]
  },
  {
   "cell_type": "markdown",
   "metadata": {},
   "source": [
    "### Hyperparamter Tuning for Logistic Regression Model"
   ]
  },
  {
   "cell_type": "markdown",
   "metadata": {},
   "source": [
    "To find the best performing parameters, we can use the CrossValidator class to evaluate each combination of parameters defined in a ParameterGrid against multiple folds of the data split into training and validation datasets."
   ]
  },
  {
   "cell_type": "markdown",
   "metadata": {},
   "source": [
    "### Change the Discrimination Threshold"
   ]
  },
  {
   "cell_type": "markdown",
   "metadata": {},
   "source": [
    "The AUC score seems to indicate a reasonably good model, but the performance metrics seem to indicate that it predicts a high number of False Negative labels (i.e. it predicts 0 when the true label is 1), leading to a low Recall. We can improve this by lowering the threshold.\n",
    "\n",
    "In this case, I'll let the CrossValidator find the best threshold from 0.4 and 0.3, regularization parameter from 0.3 and 0.1, and the maximum number of iterations allowed from 10 and 5."
   ]
  },
  {
   "cell_type": "code",
   "execution_count": 48,
   "metadata": {},
   "outputs": [],
   "source": [
    "paramGrid = ParamGridBuilder().addGrid(lr.regParam, [0.3, 0.1]).addGrid(lr.maxIter, [10, 5]).addGrid(lr.threshold, \n",
    "                                                                                            [0.4, 0.3]).build()\n",
    "cv = CrossValidator(estimator=pipeline_LR, evaluator=BinaryClassificationEvaluator(), estimatorParamMaps=paramGrid, \n",
    "                    numFolds=2)\n",
    "\n",
    "model = cv.fit(train)"
   ]
  },
  {
   "cell_type": "code",
   "execution_count": 49,
   "metadata": {},
   "outputs": [
    {
     "name": "stdout",
     "output_type": "stream",
     "text": [
      "+--------------------+----------+---------+\n",
      "|            features|prediction|trueLabel|\n",
      "+--------------------+----------+---------+\n",
      "|[10.0,1.0,0.0,103...|       0.0|        0|\n",
      "|[10.0,1.0,0.0,103...|       0.0|        0|\n",
      "|[10.0,1.0,0.0,103...|       0.0|        0|\n",
      "|[10.0,1.0,0.0,103...|       0.0|        0|\n",
      "|[10.0,1.0,0.0,104...|       0.0|        0|\n",
      "|[10.0,1.0,0.0,106...|       0.0|        0|\n",
      "|[10.0,1.0,0.0,106...|       0.0|        0|\n",
      "|[10.0,1.0,0.0,106...|       0.0|        0|\n",
      "|[10.0,1.0,0.0,107...|       0.0|        1|\n",
      "|[10.0,1.0,0.0,108...|       0.0|        0|\n",
      "+--------------------+----------+---------+\n",
      "only showing top 10 rows\n",
      "\n"
     ]
    }
   ],
   "source": [
    "newPrediction = model.transform(test)\n",
    "newPredicted = newPrediction.select(\"features\", \"prediction\", \"trueLabel\")\n",
    "newPredicted.show(10)"
   ]
  },
  {
   "cell_type": "code",
   "execution_count": 50,
   "metadata": {},
   "outputs": [
    {
     "name": "stdout",
     "output_type": "stream",
     "text": [
      "+---------+------------------+\n",
      "|   metric|             value|\n",
      "+---------+------------------+\n",
      "|       TP|           88493.0|\n",
      "|       FP|            2545.0|\n",
      "|       TN|          645446.0|\n",
      "|       FN|           72375.0|\n",
      "|Precision|0.9720446406994881|\n",
      "|   Recall|0.5500969739165029|\n",
      "|       F1|0.7025874731050471|\n",
      "+---------+------------------+\n",
      "\n"
     ]
    }
   ],
   "source": [
    "tp = float(newPredicted.filter(\"prediction == 1.0 AND truelabel == 1\").count())\n",
    "fp = float(newPredicted.filter(\"prediction == 1.0 AND truelabel == 0\").count())\n",
    "tn = float(newPredicted.filter(\"prediction == 0.0 AND truelabel == 0\").count())\n",
    "fn = float(newPredicted.filter(\"prediction == 0.0 AND truelabel == 1\").count())\n",
    "pr = tp / (tp + fp)\n",
    "re = tp / (tp + fn)\n",
    "metrics = spark.createDataFrame([\n",
    " (\"TP\", tp),\n",
    " (\"FP\", fp),\n",
    " (\"TN\", tn),\n",
    " (\"FN\", fn),\n",
    " (\"Precision\", pr),\n",
    " (\"Recall\", re),\n",
    " (\"F1\", 2*pr*re/(re+pr))],[\"metric\", \"value\"])\n",
    "metrics.show()"
   ]
  },
  {
   "cell_type": "code",
   "execution_count": 51,
   "metadata": {},
   "outputs": [
    {
     "name": "stdout",
     "output_type": "stream",
     "text": [
      "AUR2 =  0.7730847251158801\n"
     ]
    }
   ],
   "source": [
    "# Recalculate the Area Under ROC\n",
    "evaluator2 = BinaryClassificationEvaluator(labelCol=\"trueLabel\", rawPredictionCol=\"prediction\", metricName=\"areaUnderROC\")\n",
    "aur2 = evaluator2.evaluate(newPredicted)\n",
    "print( \"AUR2 = \", aur2)"
   ]
  },
  {
   "cell_type": "code",
   "execution_count": null,
   "metadata": {},
   "outputs": [],
   "source": []
  }
 ],
 "metadata": {
  "kernelspec": {
   "display_name": "Python 3",
   "language": "python",
   "name": "python3"
  },
  "language_info": {
   "codemirror_mode": {
    "name": "ipython",
    "version": 3
   },
   "file_extension": ".py",
   "mimetype": "text/x-python",
   "name": "python",
   "nbconvert_exporter": "python",
   "pygments_lexer": "ipython3",
   "version": "3.8.5"
  }
 },
 "nbformat": 4,
 "nbformat_minor": 4
}
